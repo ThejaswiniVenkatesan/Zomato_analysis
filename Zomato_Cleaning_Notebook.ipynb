{
 "cells": [
  {
   "cell_type": "markdown",
   "id": "49fe9109",
   "metadata": {},
   "source": [
    "# 🧹 Zomato Dataset Cleaning Notebook\n",
    "This notebook performs data cleaning on the Zomato dataset for use in Tableau or GitHub. Steps include:\n",
    "- Column renaming and trimming\n",
    "- Null handling\n",
    "- Rating and cost column formatting\n",
    "- Cleaning text fields\n",
    "- Generating cost per person\n",
    "- Dropping unnecessary columns\n",
    "- Exporting final CSV"
   ]
  },
  {
   "cell_type": "code",
   "execution_count": null,
   "id": "45ff314e",
   "metadata": {},
   "outputs": [],
   "source": [
    "import pandas as pd\n",
    "import numpy as np\n",
    "import csv\n",
    "import os"
   ]
  },
  {
   "cell_type": "code",
   "execution_count": null,
   "id": "3b8a9661",
   "metadata": {},
   "outputs": [],
   "source": [
    "csv.field_size_limit(100000000)  # Allow large text fields"
   ]
  },
  {
   "cell_type": "code",
   "execution_count": null,
   "id": "6e2ef850",
   "metadata": {},
   "outputs": [],
   "source": [
    "# Load the CSV file\n",
    "df = pd.read_csv(\"zomato.csv\", encoding='utf-8', engine='python')\n",
    "df.head()"
   ]
  },
  {
   "cell_type": "code",
   "execution_count": null,
   "id": "2e30506f",
   "metadata": {},
   "outputs": [],
   "source": [
    "# Clean column names\n",
    "df.columns = (\n",
    "    df.columns.str.strip()\n",
    "    .str.lower()\n",
    "    .str.replace(' ', '_')\n",
    "    .str.replace('(', '', regex=False)\n",
    "    .str.replace(')', '', regex=False)\n",
    "    .str.replace('-', '_')\n",
    "    .str.replace('__', '_')\n",
    "    .str.strip('_')\n",
    ")"
   ]
  },
  {
   "cell_type": "code",
   "execution_count": null,
   "id": "c317c800",
   "metadata": {},
   "outputs": [],
   "source": [
    "df.rename(columns={\n",
    "    'approx_cost_for_two_people': 'approx_costfor_two_people',\n",
    "    'listed_in(type)': 'listed_intype',\n",
    "    'listed_in(city)': 'listed_incity'\n",
    "}, inplace=True)"
   ]
  },
  {
   "cell_type": "code",
   "execution_count": null,
   "id": "4e79acad",
   "metadata": {},
   "outputs": [],
   "source": [
    "df['rate'] = df['rate'].astype(str).str.replace('/5', '', regex=False)\n",
    "df['rate'] = df['rate'].replace(['NEW', '-'], np.nan)\n",
    "df['rate'] = pd.to_numeric(df['rate'].str.strip(), errors='coerce')\n",
    "df['rate'].fillna(df['rate'].mean(), inplace=True)"
   ]
  },
  {
   "cell_type": "code",
   "execution_count": null,
   "id": "6f55a917",
   "metadata": {},
   "outputs": [],
   "source": [
    "df['votes'] = pd.to_numeric(df['votes'], errors='coerce').fillna(0).astype(int)\n",
    "df['phone'] = df['phone'].fillna(\"Not Available\")\n",
    "df['cuisines'] = df['cuisines'].fillna(\"Unknown\")\n",
    "df['rest_type'] = df['rest_type'].fillna(\"Unknown\")\n",
    "df['dish_liked'] = df['dish_liked'].fillna(\"Not Mentioned\")"
   ]
  },
  {
   "cell_type": "code",
   "execution_count": null,
   "id": "801deb98",
   "metadata": {},
   "outputs": [],
   "source": [
    "df['approx_costfor_two_people'] = pd.to_numeric(df['approx_costfor_two_people'], errors='coerce')\n",
    "df['approx_costfor_two_people'].fillna(df['approx_costfor_two_people'].mean(), inplace=True)\n",
    "df['cost_per_person'] = df['approx_costfor_two_people'] / 2\n",
    "df.drop(columns=['approx_costfor_two_people'], inplace=True)"
   ]
  },
  {
   "cell_type": "code",
   "execution_count": null,
   "id": "04eca6ca",
   "metadata": {},
   "outputs": [],
   "source": [
    "df.replace(to_replace=r'\\r|\\n', value=' ', regex=True, inplace=True)\n",
    "df = df.applymap(lambda x: x.strip() if isinstance(x, str) else x)"
   ]
  },
  {
   "cell_type": "code",
   "execution_count": null,
   "id": "cbcb9896",
   "metadata": {},
   "outputs": [],
   "source": [
    "columns_to_drop = ['url', 'menu_item', 'reviews_list', 'phone', 'address']\n",
    "df.drop(columns=columns_to_drop, inplace=True)"
   ]
  },
  {
   "cell_type": "code",
   "execution_count": null,
   "id": "907a3238",
   "metadata": {},
   "outputs": [],
   "source": [
    "print(f\"✅ Number of records: {len(df)}\")\n",
    "print(\"✅ Final columns:\", list(df.columns))\n",
    "df.head()"
   ]
  },
  {
   "cell_type": "code",
   "execution_count": null,
   "id": "0da40c69",
   "metadata": {},
   "outputs": [],
   "source": [
    "output_path = \"zomato_cleaned_for_github.csv\"\n",
    "df.to_csv(output_path, index=False)\n",
    "print(f\"📁 Cleaned CSV saved to: {output_path}\")"
   ]
  }
 ],
 "metadata": {},
 "nbformat": 4,
 "nbformat_minor": 5
}